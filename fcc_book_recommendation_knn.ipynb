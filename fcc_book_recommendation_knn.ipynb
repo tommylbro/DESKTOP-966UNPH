{
  "cells": [
    {
      "cell_type": "markdown",
      "metadata": {
        "id": "view-in-github",
        "colab_type": "text"
      },
      "source": [
        "<a href=\"https://colab.research.google.com/github/tommylbro/DESKTOP-966UNPH/blob/main/fcc_book_recommendation_knn.ipynb\" target=\"_parent\"><img src=\"https://colab.research.google.com/assets/colab-badge.svg\" alt=\"Open In Colab\"/></a>"
      ]
    },
    {
      "cell_type": "code",
      "execution_count": 20,
      "metadata": {
        "id": "Y1onB6kUvo4Z"
      },
      "outputs": [],
      "source": [
        "# import libraries (you may add additional imports but you may not have to)\n",
        "import numpy as np\n",
        "import pandas as pd\n",
        "from scipy.sparse import csr_matrix\n",
        "from sklearn.neighbors import NearestNeighbors\n",
        "import matplotlib.pyplot as plt"
      ]
    },
    {
      "cell_type": "code",
      "execution_count": 21,
      "metadata": {
        "id": "iAQGqqO_vo4d",
        "colab": {
          "base_uri": "https://localhost:8080/"
        },
        "outputId": "126a7a1a-18b2-4adc-b6dd-586965cbb624"
      },
      "outputs": [
        {
          "output_type": "stream",
          "name": "stdout",
          "text": [
            "--2025-07-18 18:55:14--  https://cdn.freecodecamp.org/project-data/books/book-crossings.zip\n",
            "Resolving cdn.freecodecamp.org (cdn.freecodecamp.org)... 172.67.70.149, 104.26.3.33, 104.26.2.33, ...\n",
            "Connecting to cdn.freecodecamp.org (cdn.freecodecamp.org)|172.67.70.149|:443... connected.\n",
            "HTTP request sent, awaiting response... 200 OK\n",
            "Length: 26085508 (25M) [application/zip]\n",
            "Saving to: ‘book-crossings.zip.2’\n",
            "\n",
            "book-crossings.zip. 100%[===================>]  24.88M  43.5MB/s    in 0.6s    \n",
            "\n",
            "2025-07-18 18:55:15 (43.5 MB/s) - ‘book-crossings.zip.2’ saved [26085508/26085508]\n",
            "\n",
            "Archive:  book-crossings.zip\n",
            "replace BX-Book-Ratings.csv? [y]es, [n]o, [A]ll, [N]one, [r]ename: A\n",
            "  inflating: BX-Book-Ratings.csv     \n",
            "  inflating: BX-Books.csv            \n",
            "  inflating: BX-Users.csv            \n"
          ]
        }
      ],
      "source": [
        "# get data files\n",
        "!wget https://cdn.freecodecamp.org/project-data/books/book-crossings.zip\n",
        "\n",
        "!unzip book-crossings.zip\n",
        "\n",
        "books_filename = 'BX-Books.csv'\n",
        "ratings_filename = 'BX-Book-Ratings.csv'"
      ]
    },
    {
      "cell_type": "code",
      "execution_count": 22,
      "metadata": {
        "id": "NClILWOiEd6Q"
      },
      "outputs": [],
      "source": [
        "# import csv data into dataframes\n",
        "df_books = pd.read_csv(\n",
        "    books_filename,\n",
        "    encoding = \"ISO-8859-1\",\n",
        "    sep=\";\",\n",
        "    header=0,\n",
        "    names=['isbn', 'title', 'author'],\n",
        "    usecols=['isbn', 'title', 'author'],\n",
        "    dtype={'isbn': 'str', 'title': 'str', 'author': 'str'})\n",
        "\n",
        "df_ratings = pd.read_csv(\n",
        "    ratings_filename,\n",
        "    encoding = \"ISO-8859-1\",\n",
        "    sep=\";\",\n",
        "    header=0,\n",
        "    names=['user', 'isbn', 'rating'],\n",
        "    usecols=['user', 'isbn', 'rating'],\n",
        "    dtype={'user': 'int32', 'isbn': 'str', 'rating': 'float32'})"
      ]
    },
    {
      "cell_type": "code",
      "execution_count": 23,
      "metadata": {
        "id": "xAcXjkCFCh0A"
      },
      "outputs": [],
      "source": [
        "# add your code here - consider creating a new cell for each section of code\n",
        "import pandas as pd\n",
        "import numpy as np\n",
        "from sklearn.neighbors import NearestNeighbors\n",
        "from scipy.sparse import csr_matrix\n",
        "\n",
        "# Load data\n",
        "books = pd.read_csv('BX-Books.csv', encoding = \"ISO-8859-1\", sep=\";\", on_bad_lines='skip', engine='python')\n",
        "ratings = pd.read_csv('BX-Book-Ratings.csv', encoding = \"ISO-8859-1\", sep=\";\", on_bad_lines='skip', engine='python')\n",
        "users = pd.read_csv('BX-Users.csv', encoding = \"ISO-8859-1\", sep=\";\", on_bad_lines='skip', engine='python')\n",
        "\n",
        "# Filter users with >=200 ratings\n",
        "user_counts = ratings['User-ID'].value_counts()\n",
        "ratings = ratings[ratings['User-ID'].isin(user_counts[user_counts >= 200].index)]\n",
        "\n",
        "# Filter books with >=100 ratings\n",
        "book_counts = ratings['ISBN'].value_counts()\n",
        "ratings = ratings[ratings['ISBN'].isin(book_counts[book_counts >= 100].index)]\n",
        "\n",
        "# Merge with books to get titles\n",
        "ratings_with_books = ratings.merge(books, on='ISBN')\n",
        "\n",
        "# Create pivot table (users as rows, books as columns)\n",
        "book_pivot = ratings_with_books.pivot_table(index='Book-Title', columns='User-ID', values='Book-Rating').fillna(0)\n",
        "\n",
        "# Sparse matrix for KNN\n",
        "book_matrix = csr_matrix(book_pivot.values)\n",
        "\n",
        "# Train KNN model\n",
        "model = NearestNeighbors(metric='cosine', algorithm='brute')\n",
        "model.fit(book_matrix)\n",
        "\n",
        "# Function to get recommendations\n",
        "def get_recommends(book_title):\n",
        "    if book_title not in book_pivot.index:\n",
        "        return f\"Book '{book_title}' not found in the dataset after filtering.\"\n",
        "\n",
        "    book_index = book_pivot.index.get_loc(book_title)\n",
        "    distances, indices = model.kneighbors(book_pivot.iloc[book_index, :].values.reshape(1, -1), n_neighbors=6)\n",
        "\n",
        "    recommended_books = []\n",
        "    for i in range(1, len(distances.flatten())):\n",
        "        recommended_books.append([book_pivot.index[indices.flatten()[i]], distances.flatten()[i]])\n",
        "\n",
        "    return [book_title, recommended_books]"
      ]
    },
    {
      "cell_type": "code",
      "execution_count": 24,
      "metadata": {
        "id": "f5ZUd-L1SQz7"
      },
      "outputs": [],
      "source": [
        "# function to return recommended books - this will be tested"
      ]
    },
    {
      "cell_type": "code",
      "execution_count": 25,
      "metadata": {
        "id": "jd2SLCh8oxMh",
        "colab": {
          "base_uri": "https://localhost:8080/"
        },
        "outputId": "70c488f3-94ec-4769-f575-437ede7a092e"
      },
      "outputs": [
        {
          "output_type": "stream",
          "name": "stdout",
          "text": [
            "[\"Where the Heart Is (Oprah's Book Club (Paperback))\", [['The Lovely Bones: A Novel', np.float64(0.7234864549790632)], [\"The Pilot's Wife : A Novel\", np.float64(0.8192678336213406)], ['The Joy Luck Club', np.float64(0.8198604785739199)], ['The Notebook', np.float64(0.8236682900571164)], ['Bel Canto: A Novel', np.float64(0.8247874880681116)]]]\n",
            "You haven't passed yet. Keep trying!\n"
          ]
        }
      ],
      "source": [
        "books = get_recommends(\"Where the Heart Is (Oprah's Book Club (Paperback))\")\n",
        "print(books)\n",
        "\n",
        "def test_book_recommendation():\n",
        "  test_pass = True\n",
        "  recommends = get_recommends(\"Where the Heart Is (Oprah's Book Club (Paperback))\")\n",
        "  if recommends[0] != \"Where the Heart Is (Oprah's Book Club (Paperback))\":\n",
        "    test_pass = False\n",
        "  recommended_books_titles = [\"I'll Be Seeing You\", 'The Weight of Water', 'The Surgeon', 'I Know This Much Is True']\n",
        "  recommended_books_dist = [0.8, 0.77, 0.77, 0.77]\n",
        "  # Check the top 4 recommended books\n",
        "  for i in range(4):\n",
        "    if recommends[1][i][0] not in recommended_books_titles:\n",
        "      test_pass = False\n",
        "    # Find the corresponding distance in the expected list\n",
        "    try:\n",
        "        expected_dist_index = recommended_books_titles.index(recommends[1][i][0])\n",
        "        if abs(recommends[1][i][1] - recommended_books_dist[expected_dist_index]) >= 0.05:\n",
        "            test_pass = False\n",
        "    except ValueError:\n",
        "        # This means the recommended book title was not found in the expected list,\n",
        "        # which is already covered by the check above, but good to have for clarity.\n",
        "        test_pass = False\n",
        "\n",
        "  if test_pass:\n",
        "    print(\"You passed the challenge! 🎉🎉🎉🎉🎉\")\n",
        "  else:\n",
        "    print(\"You haven't passed yet. Keep trying!\")\n",
        "\n",
        "test_book_recommendation()"
      ]
    }
  ],
  "metadata": {
    "colab": {
      "name": "fcc_book_recommendation_knn.ipynb",
      "provenance": [],
      "include_colab_link": true
    },
    "kernelspec": {
      "display_name": "Python 3",
      "language": "python",
      "name": "python3"
    },
    "language_info": {
      "codemirror_mode": {
        "name": "ipython",
        "version": 3
      },
      "file_extension": ".py",
      "mimetype": "text/x-python",
      "name": "python",
      "nbconvert_exporter": "python",
      "pygments_lexer": "ipython3",
      "version": "3.6.5"
    }
  },
  "nbformat": 4,
  "nbformat_minor": 0
}